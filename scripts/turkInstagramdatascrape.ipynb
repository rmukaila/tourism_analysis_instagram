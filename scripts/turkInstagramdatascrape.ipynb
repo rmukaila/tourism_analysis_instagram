{
 "cells": [
  {
   "cell_type": "code",
   "execution_count": 35,
   "metadata": {},
   "outputs": [],
   "source": [
    "\n",
    "import os\n",
    "from instalooter.looters import HashtagLooter\n",
    "\n",
    "#from progressbar import ProgressBar\n",
    "import time\n"
   ]
  },
  {
   "cell_type": "code",
   "execution_count": 39,
   "metadata": {},
   "outputs": [],
   "source": [
    "#slash home (/)'dan baslanan bir destination path belirleme\n",
    "directory='/home/yakin/Desktop/instaturkeydata/'\n",
    "username = 'emotionlex21'\n",
    "password = 'in@Science21'\n",
    "jobs = 32\n",
    " \n",
    "sleep_dakikalar = 60*20\n",
    "sehirlik_minimum_indirecek_veri = 3\n",
    "sehir_basina_beklenen_veri_sayisi = 10 # \"None\" yazdigimiz zaman Istagramdaki alabilecgimiz kadar veriyi indirecek\n",
    "\n",
    "#login yaparken hata cikarsa ve dogu sonraki adim gecerse biraktigi sehiri tekrar dongunun karsi ciksin\n",
    "sehirler = ['istanbul','antalya','izmir','istanbul','antalya','izmir','istanbul','antalya','izmir','istanbul','antalya','izmir']\n",
    "\n",
    " "
   ]
  },
  {
   "cell_type": "code",
   "execution_count": 37,
   "metadata": {
    "collapsed": true
   },
   "outputs": [
    {
     "name": "stdout",
     "output_type": "stream",
     "text": [
      "Begining download of :istanbul data\n",
      "Begining download of :antalya data\n",
      "Begining download of :izmir data\n"
     ]
    }
   ],
   "source": [
    "#istedgimiz veri sayisi olmadan dissel dongusu devam etirmek icin while true ...\n",
    "while True:\n",
    "    for item in sehirler:\n",
    "        \n",
    "        if not os.path.exists(directory+item):\n",
    "            stor_file_loc = directory+item +'/'\n",
    "            \n",
    "            \n",
    "        if os.path.exists(stor_file_loc):\n",
    "            #hatadan dolayi dongu baslarsa, hata olmadan onceki biten sehirler icin tekra indirme, ilerleyin..\n",
    "            if sehirlik_minimum_indirecek_veri < len(os.listdir(stor_file_loc))/2:\n",
    "                continue\n",
    "    \n",
    "        \n",
    "        looter = HashtagLooter(item, add_metadata=True, get_videos=False, videos_only=False, jobs=16, template='{id}', dump_json=True, dump_only=False, extended_dump=False, session=None) \n",
    "        \n",
    "        try:\n",
    "            looter.login(username,password)\n",
    "        except:\n",
    "            print('Error while logging in')\n",
    "            time.sleep(30)\n",
    "            continue\n",
    "        print('Begining download of :' + item+ ' data')\n",
    "        try:\n",
    "            looter.download(stor_file_loc, condition=None, media_count=sehir_basina_beklenen_veri_sayisi, timeframe=None, new_only=True, pgpbar_cls=None, dlpbar_cls=None)\n",
    "        except:\n",
    "            print('Error while downloading '+item+' continuing...')\n",
    "                \n",
    "#butun sehir icin istedigimiz veri sayisi oldugu zaman while looptan cik, yoksa devam et        \n",
    "    if sehirlik_minimum_indirecek_veri < len(os.listdir(directory+'istanbul'))/2 and minimum_indirecek_veri < len(os.listdir(directory+'antalya'))/2 and minimum_indirecek_veri < len(os.listdir(directory+'izmir'))/2:\n",
    "        break\n",
    "    #time.sleep(sleep_dakikalar) #Bir sehirlik veriyi indirdikten sonra uyuyun..Instagram ayni anda fazla indirmekten dolayi seni block etmesinler    \n",
    "        \n",
    "    "
   ]
  },
  {
   "cell_type": "code",
   "execution_count": null,
   "metadata": {},
   "outputs": [],
   "source": []
  }
 ],
 "metadata": {
  "kernelspec": {
   "display_name": "Python 3",
   "language": "python",
   "name": "python3"
  },
  "language_info": {
   "codemirror_mode": {
    "name": "ipython",
    "version": 3
   },
   "file_extension": ".py",
   "mimetype": "text/x-python",
   "name": "python",
   "nbconvert_exporter": "python",
   "pygments_lexer": "ipython3",
   "version": "3.6.9"
  }
 },
 "nbformat": 4,
 "nbformat_minor": 2
}
