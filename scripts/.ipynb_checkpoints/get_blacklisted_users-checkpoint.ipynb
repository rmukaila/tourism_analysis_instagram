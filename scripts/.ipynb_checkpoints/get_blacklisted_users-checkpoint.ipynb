{
 "cells": [
  {
   "cell_type": "code",
   "execution_count": 32,
   "metadata": {},
   "outputs": [],
   "source": [
    "import matplotlib.pyplot as plt\n",
    "# import plotly.plotly as py\n",
    "# from load_jsons import *\n",
    "import collections\n",
    "import glob\n",
    "import json\n"
   ]
  },
  {
   "cell_type": "code",
   "execution_count": 33,
   "metadata": {},
   "outputs": [],
   "source": [
    "posts_TH = 500  # Will discard users having more than this publications, they are probably spam\n",
    "createBlacklist = True"
   ]
  },
  {
   "cell_type": "code",
   "execution_count": 56,
   "metadata": {},
   "outputs": [],
   "source": [
    "city = 'antalya'\n",
    "json_base_path = '/home/emotionlex/Documents/newest/instaturkeydata/JSONS/'+city+'_jsons'\n",
    "users_black_list_output_file_dir = '/home/emotionlex/Documents/newest/instaturkeydata/'+city+'_blacklisted_users.txt'"
   ]
  },
  {
   "cell_type": "code",
   "execution_count": 35,
   "metadata": {},
   "outputs": [],
   "source": [
    "def load(path):\n",
    "    data = {}\n",
    "    print (\"Loading data\")\n",
    "    c = 0\n",
    "    for file in glob.glob(path+ \"/*.json\"):\n",
    "        c += 1\n",
    "        if c % 50000 == 0:\n",
    "            print (c)\n",
    "        with open(file) as data_file:\n",
    "            try:\n",
    "                data[file.split('/')[-1][:-5]] = json.load(data_file)\n",
    "            except:\n",
    "                print (\"Failed decoding JSON, skipping\")\n",
    "                continue\n",
    "    return data"
   ]
  },
  {
   "cell_type": "code",
   "execution_count": 36,
   "metadata": {},
   "outputs": [
    {
     "name": "stdout",
     "output_type": "stream",
     "text": [
      "Loading data\n",
      "50000\n",
      "Number of antalya jsons: 60255\n"
     ]
    }
   ],
   "source": [
    "\n",
    "data = load(json_base_path)\n",
    "print (\"Number of \"+city+\" jsons: \" + str(len(data)))"
   ]
  },
  {
   "cell_type": "code",
   "execution_count": 37,
   "metadata": {},
   "outputs": [],
   "source": [
    "# Plot num of publications of top  users\n",
    "users = {}\n",
    "for k, v in data.items():\n",
    "     \n",
    "    if v['owner']['id'] not in users:\n",
    "        users[v['owner']['id']] = 1\n",
    "    else:\n",
    "        users[v['owner']['id']] = users[v['owner']['id']] + 1"
   ]
  },
  {
   "cell_type": "code",
   "execution_count": 38,
   "metadata": {},
   "outputs": [
    {
     "name": "stdout",
     "output_type": "stream",
     "text": [
      "Number of authors: 20545\n",
      "User with max publications has:  250\n"
     ]
    }
   ],
   "source": [
    "print (\"Number of authors: \" + str(len(users)))\n",
    "print (\"User with max publications has:  \" + str(max(users.values())))"
   ]
  },
  {
   "cell_type": "code",
   "execution_count": 51,
   "metadata": {},
   "outputs": [
    {
     "data": {
      "image/png": "[encoded data removed]",
      "text/plain": [
       "<Figure size 432x288 with 1 Axes>"
      ]
     },
     "metadata": {
      "needs_background": "light"
     },
     "output_type": "display_data"
    }
   ],
   "source": [
    "topX = 10000\n",
    "user_publis_sorted = sorted(users.values(),reverse=True)\n",
    "# sorted(user_publis_sorted, reverse=True)\n",
    "# print(user_publis_sorted)\n",
    "# user_publis_sortedsort(reverse=True)\n",
    "x = range(topX)\n",
    "width = 1/1.5\n",
    "plt.ylim([0,40])\n",
    "plt.bar(x, user_publis_sorted[0:topX], width, color=\"brown\")\n",
    "# plt.title(\"Number of posts of top\" + str(topX) + \"authors\")\n",
    "plt.show()"
   ]
  },
  {
   "cell_type": "code",
   "execution_count": 57,
   "metadata": {},
   "outputs": [
    {
     "name": "stdout",
     "output_type": "stream",
     "text": [
      "Creating users black list\n",
      "Num of blacklisted antalya users: 62\n"
     ]
    }
   ],
   "source": [
    "\n",
    "if createBlacklist:\n",
    "    # Create a blacklist of users: That will be users having more than X publications (100)\n",
    "    print (\"Creating users black list\")\n",
    "    \n",
    "    blacklisted = 0\n",
    "    for user, num in users.items():\n",
    "        if num > posts_TH:\n",
    "            blacklisted += 1\n",
    "            users_blacklist = open(users_black_list_output_file_dir,\"a\")\n",
    "            users_blacklist.write(str(user) + '\\n')\n",
    "            users_blacklist.close()        \n",
    "    print (\"Num of blacklisted \"+city+\" users: \" + str(blacklisted))"
   ]
  },
  {
   "cell_type": "code",
   "execution_count": null,
   "metadata": {},
   "outputs": [],
   "source": [
    "# Plot num of likes\n",
    "# likes_tens = {}\n",
    "# likes_hundreds = {}\n",
    "#\n",
    "# for k, v in data.iteritems():\n",
    "#     likes_ten = round(v['likes']['count'] / 10)\n",
    "#     if likes_ten not in likes_tens:\n",
    "#         likes_tens[likes_ten] = 1\n",
    "#     else:\n",
    "#         likes_tens[likes_ten] = likes_tens[likes_ten] + 1\n",
    "#\n",
    "#\n",
    "# print \"Number of different likes values (ten): \" + str(len(likes_tens))\n",
    "# print \"Publication with max likes has (ten):  \" + str(max(likes_tens.values()))\n",
    "#\n",
    "# topX = 10\n",
    "#\n",
    "# likes_tens_ordered = collections.OrderedDict(sorted(likes_tens.items()))\n",
    "#\n",
    "# if len(likes_tens_ordered.values()) < topX:\n",
    "#     print \"Not enought likes to print tens\"\n",
    "# else:\n",
    "#     likes_publis_sorted = likes_tens_ordered.values()\n",
    "#     likes_publis_sorted.sort(reverse=True)\n",
    "#     my_xticks = ['0-5', '5-15', '15-25', '25-35','35-45', '45-55', '55-65', '75-85', '85-95','95-105']\n",
    "#     x = range(topX)\n",
    "#     plt.xticks(x, my_xticks)\n",
    "#     width = 1/1.5\n",
    "#     plt.bar(x, likes_publis_sorted[0:topX], width, color=\"blue\")\n",
    "#     plt.title(\"Likes of top posts (tens)\")\n",
    "#     plt.show()\n"
   ]
  },
  {
   "cell_type": "code",
   "execution_count": null,
   "metadata": {},
   "outputs": [],
   "source": [
    "print (\"Done\")"
   ]
  }
 ],
 "metadata": {
  "kernelspec": {
   "display_name": "Python 3",
   "language": "python",
   "name": "python3"
  },
  "language_info": {
   "codemirror_mode": {
    "name": "ipython",
    "version": 3
   },
   "file_extension": ".py",
   "mimetype": "text/x-python",
   "name": "python",
   "nbconvert_exporter": "python",
   "pygments_lexer": "ipython3",
   "version": "3.7.6"
  }
 },
 "nbformat": 4,
 "nbformat_minor": 4
}
