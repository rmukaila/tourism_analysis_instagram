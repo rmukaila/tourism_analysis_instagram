{
 "cells": [
  {
   "cell_type": "code",
   "execution_count": 21,
   "metadata": {},
   "outputs": [],
   "source": [
    "from shutil import copyfile, move\n",
    "import glob\n",
    "import os"
   ]
  },
  {
   "cell_type": "code",
   "execution_count": 26,
   "metadata": {},
   "outputs": [],
   "source": [
    "city = 'izmir' #You need to change this value to corespond with the folder (city) you are dealing with"
   ]
  },
  {
   "cell_type": "code",
   "execution_count": 23,
   "metadata": {},
   "outputs": [],
   "source": [
    "source_data_path = r'/home/emotionlex/Documents/newest/instaturkeydata/'+city\n",
    "target_base_path = r'/home/emotionlex/Documents/newest/instaturkeydata/'+city+'_jsons/'"
   ]
  },
  {
   "cell_type": "code",
   "execution_count": null,
   "metadata": {},
   "outputs": [],
   "source": []
  },
  {
   "cell_type": "code",
   "execution_count": 24,
   "metadata": {},
   "outputs": [],
   "source": [
    "copy_dir = target_base_path\n",
    "if not os.path.exists(copy_dir):\n",
    "    os.mkdir(copy_dir)"
   ]
  },
  {
   "cell_type": "code",
   "execution_count": 25,
   "metadata": {},
   "outputs": [
    {
     "name": "stdout",
     "output_type": "stream",
     "text": [
      "Number of jsonsizmir:  59676\n"
     ]
    }
   ],
   "source": [
    "i = 0\n",
    "for file in glob.glob(source_data_path+\"/*.json\"):\n",
    "    i +=1\n",
    "#     print(str(file[-24:]))\n",
    "#     target_base_path = \n",
    "#     copyfile(file,target_base_path+file[-24:])\n",
    "    copyfile(file,target_base_path+file[-24:])\n",
    "print('Number of jsons for '+city+': ',i)    \n",
    "    "
   ]
  },
  {
   "cell_type": "code",
   "execution_count": null,
   "metadata": {},
   "outputs": [],
   "source": []
  },
  {
   "cell_type": "code",
   "execution_count": null,
   "metadata": {},
   "outputs": [],
   "source": []
  }
 ],
 "metadata": {
  "kernelspec": {
   "display_name": "Python 3",
   "language": "python",
   "name": "python3"
  },
  "language_info": {
   "codemirror_mode": {
    "name": "ipython",
    "version": 3
   },
   "file_extension": ".py",
   "mimetype": "text/x-python",
   "name": "python",
   "nbconvert_exporter": "python",
   "pygments_lexer": "ipython3",
   "version": "3.7.6"
  }
 },
 "nbformat": 4,
 "nbformat_minor": 4
}
